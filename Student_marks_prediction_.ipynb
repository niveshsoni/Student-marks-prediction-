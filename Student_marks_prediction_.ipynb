{
  "nbformat": 4,
  "nbformat_minor": 0,
  "metadata": {
    "colab": {
      "name": "Student marks prediction .ipynb",
      "provenance": []
    },
    "kernelspec": {
      "name": "python3",
      "display_name": "Python 3"
    },
    "language_info": {
      "name": "python"
    }
  },
  "cells": [
    {
      "cell_type": "code",
      "execution_count": null,
      "metadata": {
        "id": "Xc2-UWmioegN"
      },
      "outputs": [],
      "source": [
        "import numpy as np \n",
        "import pandas as pd \n",
        "import nltk   #here nltk is natural language processing\n",
        "from nltk.corpus import stopwords\n",
        "import string"
      ]
    },
    {
      "cell_type": "code",
      "source": [
        "#load datasets\n",
        "dataset = pd.read_csv(\"/content/drive/MyDrive/Data_sets/student_info.csv\")"
      ],
      "metadata": {
        "id": "5uTNcVhrXE0-"
      },
      "execution_count": null,
      "outputs": []
    },
    {
      "cell_type": "code",
      "source": [
        "#read dataset\n",
        "dataset"
      ],
      "metadata": {
        "colab": {
          "base_uri": "https://localhost:8080/",
          "height": 424
        },
        "id": "mMPwyD4FhHDU",
        "outputId": "d6f0b094-4d82-4f03-fabf-6deae42c725d"
      },
      "execution_count": null,
      "outputs": [
        {
          "output_type": "execute_result",
          "data": {
            "text/plain": [
              "     study_hours  student_marks\n",
              "0           6.83          78.50\n",
              "1           6.56          76.74\n",
              "2            NaN          78.68\n",
              "3           5.67          71.82\n",
              "4           8.67          84.19\n",
              "..           ...            ...\n",
              "195         7.53          81.67\n",
              "196         8.56          84.68\n",
              "197         8.94          86.75\n",
              "198         6.60          78.05\n",
              "199         8.35          83.50\n",
              "\n",
              "[200 rows x 2 columns]"
            ],
            "text/html": [
              "\n",
              "  <div id=\"df-567f2fca-62a0-44a4-8aba-6e98527a7571\">\n",
              "    <div class=\"colab-df-container\">\n",
              "      <div>\n",
              "<style scoped>\n",
              "    .dataframe tbody tr th:only-of-type {\n",
              "        vertical-align: middle;\n",
              "    }\n",
              "\n",
              "    .dataframe tbody tr th {\n",
              "        vertical-align: top;\n",
              "    }\n",
              "\n",
              "    .dataframe thead th {\n",
              "        text-align: right;\n",
              "    }\n",
              "</style>\n",
              "<table border=\"1\" class=\"dataframe\">\n",
              "  <thead>\n",
              "    <tr style=\"text-align: right;\">\n",
              "      <th></th>\n",
              "      <th>study_hours</th>\n",
              "      <th>student_marks</th>\n",
              "    </tr>\n",
              "  </thead>\n",
              "  <tbody>\n",
              "    <tr>\n",
              "      <th>0</th>\n",
              "      <td>6.83</td>\n",
              "      <td>78.50</td>\n",
              "    </tr>\n",
              "    <tr>\n",
              "      <th>1</th>\n",
              "      <td>6.56</td>\n",
              "      <td>76.74</td>\n",
              "    </tr>\n",
              "    <tr>\n",
              "      <th>2</th>\n",
              "      <td>NaN</td>\n",
              "      <td>78.68</td>\n",
              "    </tr>\n",
              "    <tr>\n",
              "      <th>3</th>\n",
              "      <td>5.67</td>\n",
              "      <td>71.82</td>\n",
              "    </tr>\n",
              "    <tr>\n",
              "      <th>4</th>\n",
              "      <td>8.67</td>\n",
              "      <td>84.19</td>\n",
              "    </tr>\n",
              "    <tr>\n",
              "      <th>...</th>\n",
              "      <td>...</td>\n",
              "      <td>...</td>\n",
              "    </tr>\n",
              "    <tr>\n",
              "      <th>195</th>\n",
              "      <td>7.53</td>\n",
              "      <td>81.67</td>\n",
              "    </tr>\n",
              "    <tr>\n",
              "      <th>196</th>\n",
              "      <td>8.56</td>\n",
              "      <td>84.68</td>\n",
              "    </tr>\n",
              "    <tr>\n",
              "      <th>197</th>\n",
              "      <td>8.94</td>\n",
              "      <td>86.75</td>\n",
              "    </tr>\n",
              "    <tr>\n",
              "      <th>198</th>\n",
              "      <td>6.60</td>\n",
              "      <td>78.05</td>\n",
              "    </tr>\n",
              "    <tr>\n",
              "      <th>199</th>\n",
              "      <td>8.35</td>\n",
              "      <td>83.50</td>\n",
              "    </tr>\n",
              "  </tbody>\n",
              "</table>\n",
              "<p>200 rows × 2 columns</p>\n",
              "</div>\n",
              "      <button class=\"colab-df-convert\" onclick=\"convertToInteractive('df-567f2fca-62a0-44a4-8aba-6e98527a7571')\"\n",
              "              title=\"Convert this dataframe to an interactive table.\"\n",
              "              style=\"display:none;\">\n",
              "        \n",
              "  <svg xmlns=\"http://www.w3.org/2000/svg\" height=\"24px\"viewBox=\"0 0 24 24\"\n",
              "       width=\"24px\">\n",
              "    <path d=\"M0 0h24v24H0V0z\" fill=\"none\"/>\n",
              "    <path d=\"M18.56 5.44l.94 2.06.94-2.06 2.06-.94-2.06-.94-.94-2.06-.94 2.06-2.06.94zm-11 1L8.5 8.5l.94-2.06 2.06-.94-2.06-.94L8.5 2.5l-.94 2.06-2.06.94zm10 10l.94 2.06.94-2.06 2.06-.94-2.06-.94-.94-2.06-.94 2.06-2.06.94z\"/><path d=\"M17.41 7.96l-1.37-1.37c-.4-.4-.92-.59-1.43-.59-.52 0-1.04.2-1.43.59L10.3 9.45l-7.72 7.72c-.78.78-.78 2.05 0 2.83L4 21.41c.39.39.9.59 1.41.59.51 0 1.02-.2 1.41-.59l7.78-7.78 2.81-2.81c.8-.78.8-2.07 0-2.86zM5.41 20L4 18.59l7.72-7.72 1.47 1.35L5.41 20z\"/>\n",
              "  </svg>\n",
              "      </button>\n",
              "      \n",
              "  <style>\n",
              "    .colab-df-container {\n",
              "      display:flex;\n",
              "      flex-wrap:wrap;\n",
              "      gap: 12px;\n",
              "    }\n",
              "\n",
              "    .colab-df-convert {\n",
              "      background-color: #E8F0FE;\n",
              "      border: none;\n",
              "      border-radius: 50%;\n",
              "      cursor: pointer;\n",
              "      display: none;\n",
              "      fill: #1967D2;\n",
              "      height: 32px;\n",
              "      padding: 0 0 0 0;\n",
              "      width: 32px;\n",
              "    }\n",
              "\n",
              "    .colab-df-convert:hover {\n",
              "      background-color: #E2EBFA;\n",
              "      box-shadow: 0px 1px 2px rgba(60, 64, 67, 0.3), 0px 1px 3px 1px rgba(60, 64, 67, 0.15);\n",
              "      fill: #174EA6;\n",
              "    }\n",
              "\n",
              "    [theme=dark] .colab-df-convert {\n",
              "      background-color: #3B4455;\n",
              "      fill: #D2E3FC;\n",
              "    }\n",
              "\n",
              "    [theme=dark] .colab-df-convert:hover {\n",
              "      background-color: #434B5C;\n",
              "      box-shadow: 0px 1px 3px 1px rgba(0, 0, 0, 0.15);\n",
              "      filter: drop-shadow(0px 1px 2px rgba(0, 0, 0, 0.3));\n",
              "      fill: #FFFFFF;\n",
              "    }\n",
              "  </style>\n",
              "\n",
              "      <script>\n",
              "        const buttonEl =\n",
              "          document.querySelector('#df-567f2fca-62a0-44a4-8aba-6e98527a7571 button.colab-df-convert');\n",
              "        buttonEl.style.display =\n",
              "          google.colab.kernel.accessAllowed ? 'block' : 'none';\n",
              "\n",
              "        async function convertToInteractive(key) {\n",
              "          const element = document.querySelector('#df-567f2fca-62a0-44a4-8aba-6e98527a7571');\n",
              "          const dataTable =\n",
              "            await google.colab.kernel.invokeFunction('convertToInteractive',\n",
              "                                                     [key], {});\n",
              "          if (!dataTable) return;\n",
              "\n",
              "          const docLinkHtml = 'Like what you see? Visit the ' +\n",
              "            '<a target=\"_blank\" href=https://colab.research.google.com/notebooks/data_table.ipynb>data table notebook</a>'\n",
              "            + ' to learn more about interactive tables.';\n",
              "          element.innerHTML = '';\n",
              "          dataTable['output_type'] = 'display_data';\n",
              "          await google.colab.output.renderOutput(dataTable, element);\n",
              "          const docLink = document.createElement('div');\n",
              "          docLink.innerHTML = docLinkHtml;\n",
              "          element.appendChild(docLink);\n",
              "        }\n",
              "      </script>\n",
              "    </div>\n",
              "  </div>\n",
              "  "
            ]
          },
          "metadata": {},
          "execution_count": 6
        }
      ]
    },
    {
      "cell_type": "code",
      "source": [
        "#print rows and columns \n",
        "dataset.shape "
      ],
      "metadata": {
        "colab": {
          "base_uri": "https://localhost:8080/"
        },
        "id": "GJbyepgUhKSP",
        "outputId": "b41ca951-3c48-48e2-faf7-5233d7735ff4"
      },
      "execution_count": null,
      "outputs": [
        {
          "output_type": "execute_result",
          "data": {
            "text/plain": [
              "(200, 2)"
            ]
          },
          "metadata": {},
          "execution_count": 7
        }
      ]
    },
    {
      "cell_type": "code",
      "source": [
        "dataset.corr()"
      ],
      "metadata": {
        "colab": {
          "base_uri": "https://localhost:8080/",
          "height": 112
        },
        "id": "Fn7utRDchT3d",
        "outputId": "587f01a9-dc84-40e3-c978-2a56b9b95e55"
      },
      "execution_count": null,
      "outputs": [
        {
          "output_type": "execute_result",
          "data": {
            "text/plain": [
              "               study_hours  student_marks\n",
              "study_hours       1.000000       0.979919\n",
              "student_marks     0.979919       1.000000"
            ],
            "text/html": [
              "\n",
              "  <div id=\"df-9f432324-cead-4c98-b724-9d3aed18ccc7\">\n",
              "    <div class=\"colab-df-container\">\n",
              "      <div>\n",
              "<style scoped>\n",
              "    .dataframe tbody tr th:only-of-type {\n",
              "        vertical-align: middle;\n",
              "    }\n",
              "\n",
              "    .dataframe tbody tr th {\n",
              "        vertical-align: top;\n",
              "    }\n",
              "\n",
              "    .dataframe thead th {\n",
              "        text-align: right;\n",
              "    }\n",
              "</style>\n",
              "<table border=\"1\" class=\"dataframe\">\n",
              "  <thead>\n",
              "    <tr style=\"text-align: right;\">\n",
              "      <th></th>\n",
              "      <th>study_hours</th>\n",
              "      <th>student_marks</th>\n",
              "    </tr>\n",
              "  </thead>\n",
              "  <tbody>\n",
              "    <tr>\n",
              "      <th>study_hours</th>\n",
              "      <td>1.000000</td>\n",
              "      <td>0.979919</td>\n",
              "    </tr>\n",
              "    <tr>\n",
              "      <th>student_marks</th>\n",
              "      <td>0.979919</td>\n",
              "      <td>1.000000</td>\n",
              "    </tr>\n",
              "  </tbody>\n",
              "</table>\n",
              "</div>\n",
              "      <button class=\"colab-df-convert\" onclick=\"convertToInteractive('df-9f432324-cead-4c98-b724-9d3aed18ccc7')\"\n",
              "              title=\"Convert this dataframe to an interactive table.\"\n",
              "              style=\"display:none;\">\n",
              "        \n",
              "  <svg xmlns=\"http://www.w3.org/2000/svg\" height=\"24px\"viewBox=\"0 0 24 24\"\n",
              "       width=\"24px\">\n",
              "    <path d=\"M0 0h24v24H0V0z\" fill=\"none\"/>\n",
              "    <path d=\"M18.56 5.44l.94 2.06.94-2.06 2.06-.94-2.06-.94-.94-2.06-.94 2.06-2.06.94zm-11 1L8.5 8.5l.94-2.06 2.06-.94-2.06-.94L8.5 2.5l-.94 2.06-2.06.94zm10 10l.94 2.06.94-2.06 2.06-.94-2.06-.94-.94-2.06-.94 2.06-2.06.94z\"/><path d=\"M17.41 7.96l-1.37-1.37c-.4-.4-.92-.59-1.43-.59-.52 0-1.04.2-1.43.59L10.3 9.45l-7.72 7.72c-.78.78-.78 2.05 0 2.83L4 21.41c.39.39.9.59 1.41.59.51 0 1.02-.2 1.41-.59l7.78-7.78 2.81-2.81c.8-.78.8-2.07 0-2.86zM5.41 20L4 18.59l7.72-7.72 1.47 1.35L5.41 20z\"/>\n",
              "  </svg>\n",
              "      </button>\n",
              "      \n",
              "  <style>\n",
              "    .colab-df-container {\n",
              "      display:flex;\n",
              "      flex-wrap:wrap;\n",
              "      gap: 12px;\n",
              "    }\n",
              "\n",
              "    .colab-df-convert {\n",
              "      background-color: #E8F0FE;\n",
              "      border: none;\n",
              "      border-radius: 50%;\n",
              "      cursor: pointer;\n",
              "      display: none;\n",
              "      fill: #1967D2;\n",
              "      height: 32px;\n",
              "      padding: 0 0 0 0;\n",
              "      width: 32px;\n",
              "    }\n",
              "\n",
              "    .colab-df-convert:hover {\n",
              "      background-color: #E2EBFA;\n",
              "      box-shadow: 0px 1px 2px rgba(60, 64, 67, 0.3), 0px 1px 3px 1px rgba(60, 64, 67, 0.15);\n",
              "      fill: #174EA6;\n",
              "    }\n",
              "\n",
              "    [theme=dark] .colab-df-convert {\n",
              "      background-color: #3B4455;\n",
              "      fill: #D2E3FC;\n",
              "    }\n",
              "\n",
              "    [theme=dark] .colab-df-convert:hover {\n",
              "      background-color: #434B5C;\n",
              "      box-shadow: 0px 1px 3px 1px rgba(0, 0, 0, 0.15);\n",
              "      filter: drop-shadow(0px 1px 2px rgba(0, 0, 0, 0.3));\n",
              "      fill: #FFFFFF;\n",
              "    }\n",
              "  </style>\n",
              "\n",
              "      <script>\n",
              "        const buttonEl =\n",
              "          document.querySelector('#df-9f432324-cead-4c98-b724-9d3aed18ccc7 button.colab-df-convert');\n",
              "        buttonEl.style.display =\n",
              "          google.colab.kernel.accessAllowed ? 'block' : 'none';\n",
              "\n",
              "        async function convertToInteractive(key) {\n",
              "          const element = document.querySelector('#df-9f432324-cead-4c98-b724-9d3aed18ccc7');\n",
              "          const dataTable =\n",
              "            await google.colab.kernel.invokeFunction('convertToInteractive',\n",
              "                                                     [key], {});\n",
              "          if (!dataTable) return;\n",
              "\n",
              "          const docLinkHtml = 'Like what you see? Visit the ' +\n",
              "            '<a target=\"_blank\" href=https://colab.research.google.com/notebooks/data_table.ipynb>data table notebook</a>'\n",
              "            + ' to learn more about interactive tables.';\n",
              "          element.innerHTML = '';\n",
              "          dataTable['output_type'] = 'display_data';\n",
              "          await google.colab.output.renderOutput(dataTable, element);\n",
              "          const docLink = document.createElement('div');\n",
              "          docLink.innerHTML = docLinkHtml;\n",
              "          element.appendChild(docLink);\n",
              "        }\n",
              "      </script>\n",
              "    </div>\n",
              "  </div>\n",
              "  "
            ]
          },
          "metadata": {},
          "execution_count": 8
        }
      ]
    },
    {
      "cell_type": "code",
      "source": [
        "dataset.info"
      ],
      "metadata": {
        "colab": {
          "base_uri": "https://localhost:8080/"
        },
        "id": "OBxnOOeXh0_a",
        "outputId": "26825bb4-b60d-4a6c-bc11-9cf09f7c3a39"
      },
      "execution_count": null,
      "outputs": [
        {
          "output_type": "execute_result",
          "data": {
            "text/plain": [
              "<bound method DataFrame.info of      study_hours  student_marks\n",
              "0           6.83          78.50\n",
              "1           6.56          76.74\n",
              "2            NaN          78.68\n",
              "3           5.67          71.82\n",
              "4           8.67          84.19\n",
              "..           ...            ...\n",
              "195         7.53          81.67\n",
              "196         8.56          84.68\n",
              "197         8.94          86.75\n",
              "198         6.60          78.05\n",
              "199         8.35          83.50\n",
              "\n",
              "[200 rows x 2 columns]>"
            ]
          },
          "metadata": {},
          "execution_count": 9
        }
      ]
    },
    {
      "cell_type": "code",
      "source": [
        "dataset.isnull().sum()"
      ],
      "metadata": {
        "colab": {
          "base_uri": "https://localhost:8080/"
        },
        "id": "IbRdQBBth5oq",
        "outputId": "26c6c8b6-cbd1-49ec-aecd-f7ab4a1101ad"
      },
      "execution_count": null,
      "outputs": [
        {
          "output_type": "execute_result",
          "data": {
            "text/plain": [
              "study_hours      5\n",
              "student_marks    0\n",
              "dtype: int64"
            ]
          },
          "metadata": {},
          "execution_count": 10
        }
      ]
    },
    {
      "cell_type": "code",
      "source": [
        "from sklearn.impute import SimpleImputer\n"
      ],
      "metadata": {
        "id": "De_X2RxVjBZX"
      },
      "execution_count": null,
      "outputs": []
    },
    {
      "cell_type": "code",
      "source": [
        "imputer = SimpleImputer(missing_values= np.NAN, strategy= 'mean', fill_value=None, verbose=1, copy=True)\n",
        "#Fitting imputer object to the independent variables x.   \n",
        "imputer = imputer.fit(dataset.iloc[:,0:1]) \n",
        "#Replacing missing data with the calculated mean value  \n",
        "dataset.iloc[:,0:1]= imputer.transform(dataset.iloc[:,0:1]) \n"
      ],
      "metadata": {
        "id": "b0vs-9HClrrh"
      },
      "execution_count": null,
      "outputs": []
    },
    {
      "cell_type": "code",
      "source": [
        "dataset"
      ],
      "metadata": {
        "colab": {
          "base_uri": "https://localhost:8080/",
          "height": 424
        },
        "id": "rXxJMoA6nb-J",
        "outputId": "b6fd2186-a8c5-428a-f7cc-f43099cfb7e0"
      },
      "execution_count": null,
      "outputs": [
        {
          "output_type": "execute_result",
          "data": {
            "text/plain": [
              "     study_hours  student_marks\n",
              "0       6.830000          78.50\n",
              "1       6.560000          76.74\n",
              "2       6.995949          78.68\n",
              "3       5.670000          71.82\n",
              "4       8.670000          84.19\n",
              "..           ...            ...\n",
              "195     7.530000          81.67\n",
              "196     8.560000          84.68\n",
              "197     8.940000          86.75\n",
              "198     6.600000          78.05\n",
              "199     8.350000          83.50\n",
              "\n",
              "[200 rows x 2 columns]"
            ],
            "text/html": [
              "\n",
              "  <div id=\"df-dc538a86-11f1-46d2-86b2-ca6990fbcfc2\">\n",
              "    <div class=\"colab-df-container\">\n",
              "      <div>\n",
              "<style scoped>\n",
              "    .dataframe tbody tr th:only-of-type {\n",
              "        vertical-align: middle;\n",
              "    }\n",
              "\n",
              "    .dataframe tbody tr th {\n",
              "        vertical-align: top;\n",
              "    }\n",
              "\n",
              "    .dataframe thead th {\n",
              "        text-align: right;\n",
              "    }\n",
              "</style>\n",
              "<table border=\"1\" class=\"dataframe\">\n",
              "  <thead>\n",
              "    <tr style=\"text-align: right;\">\n",
              "      <th></th>\n",
              "      <th>study_hours</th>\n",
              "      <th>student_marks</th>\n",
              "    </tr>\n",
              "  </thead>\n",
              "  <tbody>\n",
              "    <tr>\n",
              "      <th>0</th>\n",
              "      <td>6.830000</td>\n",
              "      <td>78.50</td>\n",
              "    </tr>\n",
              "    <tr>\n",
              "      <th>1</th>\n",
              "      <td>6.560000</td>\n",
              "      <td>76.74</td>\n",
              "    </tr>\n",
              "    <tr>\n",
              "      <th>2</th>\n",
              "      <td>6.995949</td>\n",
              "      <td>78.68</td>\n",
              "    </tr>\n",
              "    <tr>\n",
              "      <th>3</th>\n",
              "      <td>5.670000</td>\n",
              "      <td>71.82</td>\n",
              "    </tr>\n",
              "    <tr>\n",
              "      <th>4</th>\n",
              "      <td>8.670000</td>\n",
              "      <td>84.19</td>\n",
              "    </tr>\n",
              "    <tr>\n",
              "      <th>...</th>\n",
              "      <td>...</td>\n",
              "      <td>...</td>\n",
              "    </tr>\n",
              "    <tr>\n",
              "      <th>195</th>\n",
              "      <td>7.530000</td>\n",
              "      <td>81.67</td>\n",
              "    </tr>\n",
              "    <tr>\n",
              "      <th>196</th>\n",
              "      <td>8.560000</td>\n",
              "      <td>84.68</td>\n",
              "    </tr>\n",
              "    <tr>\n",
              "      <th>197</th>\n",
              "      <td>8.940000</td>\n",
              "      <td>86.75</td>\n",
              "    </tr>\n",
              "    <tr>\n",
              "      <th>198</th>\n",
              "      <td>6.600000</td>\n",
              "      <td>78.05</td>\n",
              "    </tr>\n",
              "    <tr>\n",
              "      <th>199</th>\n",
              "      <td>8.350000</td>\n",
              "      <td>83.50</td>\n",
              "    </tr>\n",
              "  </tbody>\n",
              "</table>\n",
              "<p>200 rows × 2 columns</p>\n",
              "</div>\n",
              "      <button class=\"colab-df-convert\" onclick=\"convertToInteractive('df-dc538a86-11f1-46d2-86b2-ca6990fbcfc2')\"\n",
              "              title=\"Convert this dataframe to an interactive table.\"\n",
              "              style=\"display:none;\">\n",
              "        \n",
              "  <svg xmlns=\"http://www.w3.org/2000/svg\" height=\"24px\"viewBox=\"0 0 24 24\"\n",
              "       width=\"24px\">\n",
              "    <path d=\"M0 0h24v24H0V0z\" fill=\"none\"/>\n",
              "    <path d=\"M18.56 5.44l.94 2.06.94-2.06 2.06-.94-2.06-.94-.94-2.06-.94 2.06-2.06.94zm-11 1L8.5 8.5l.94-2.06 2.06-.94-2.06-.94L8.5 2.5l-.94 2.06-2.06.94zm10 10l.94 2.06.94-2.06 2.06-.94-2.06-.94-.94-2.06-.94 2.06-2.06.94z\"/><path d=\"M17.41 7.96l-1.37-1.37c-.4-.4-.92-.59-1.43-.59-.52 0-1.04.2-1.43.59L10.3 9.45l-7.72 7.72c-.78.78-.78 2.05 0 2.83L4 21.41c.39.39.9.59 1.41.59.51 0 1.02-.2 1.41-.59l7.78-7.78 2.81-2.81c.8-.78.8-2.07 0-2.86zM5.41 20L4 18.59l7.72-7.72 1.47 1.35L5.41 20z\"/>\n",
              "  </svg>\n",
              "      </button>\n",
              "      \n",
              "  <style>\n",
              "    .colab-df-container {\n",
              "      display:flex;\n",
              "      flex-wrap:wrap;\n",
              "      gap: 12px;\n",
              "    }\n",
              "\n",
              "    .colab-df-convert {\n",
              "      background-color: #E8F0FE;\n",
              "      border: none;\n",
              "      border-radius: 50%;\n",
              "      cursor: pointer;\n",
              "      display: none;\n",
              "      fill: #1967D2;\n",
              "      height: 32px;\n",
              "      padding: 0 0 0 0;\n",
              "      width: 32px;\n",
              "    }\n",
              "\n",
              "    .colab-df-convert:hover {\n",
              "      background-color: #E2EBFA;\n",
              "      box-shadow: 0px 1px 2px rgba(60, 64, 67, 0.3), 0px 1px 3px 1px rgba(60, 64, 67, 0.15);\n",
              "      fill: #174EA6;\n",
              "    }\n",
              "\n",
              "    [theme=dark] .colab-df-convert {\n",
              "      background-color: #3B4455;\n",
              "      fill: #D2E3FC;\n",
              "    }\n",
              "\n",
              "    [theme=dark] .colab-df-convert:hover {\n",
              "      background-color: #434B5C;\n",
              "      box-shadow: 0px 1px 3px 1px rgba(0, 0, 0, 0.15);\n",
              "      filter: drop-shadow(0px 1px 2px rgba(0, 0, 0, 0.3));\n",
              "      fill: #FFFFFF;\n",
              "    }\n",
              "  </style>\n",
              "\n",
              "      <script>\n",
              "        const buttonEl =\n",
              "          document.querySelector('#df-dc538a86-11f1-46d2-86b2-ca6990fbcfc2 button.colab-df-convert');\n",
              "        buttonEl.style.display =\n",
              "          google.colab.kernel.accessAllowed ? 'block' : 'none';\n",
              "\n",
              "        async function convertToInteractive(key) {\n",
              "          const element = document.querySelector('#df-dc538a86-11f1-46d2-86b2-ca6990fbcfc2');\n",
              "          const dataTable =\n",
              "            await google.colab.kernel.invokeFunction('convertToInteractive',\n",
              "                                                     [key], {});\n",
              "          if (!dataTable) return;\n",
              "\n",
              "          const docLinkHtml = 'Like what you see? Visit the ' +\n",
              "            '<a target=\"_blank\" href=https://colab.research.google.com/notebooks/data_table.ipynb>data table notebook</a>'\n",
              "            + ' to learn more about interactive tables.';\n",
              "          element.innerHTML = '';\n",
              "          dataTable['output_type'] = 'display_data';\n",
              "          await google.colab.output.renderOutput(dataTable, element);\n",
              "          const docLink = document.createElement('div');\n",
              "          docLink.innerHTML = docLinkHtml;\n",
              "          element.appendChild(docLink);\n",
              "        }\n",
              "      </script>\n",
              "    </div>\n",
              "  </div>\n",
              "  "
            ]
          },
          "metadata": {},
          "execution_count": 22
        }
      ]
    },
    {
      "cell_type": "code",
      "source": [
        "dataset.isnull().sum()"
      ],
      "metadata": {
        "colab": {
          "base_uri": "https://localhost:8080/"
        },
        "id": "lD0NvFYWneTN",
        "outputId": "412ae7f4-99e2-46d7-f02f-2328e09b0d3c"
      },
      "execution_count": null,
      "outputs": [
        {
          "output_type": "execute_result",
          "data": {
            "text/plain": [
              "study_hours      0\n",
              "student_marks    0\n",
              "dtype: int64"
            ]
          },
          "metadata": {},
          "execution_count": 23
        }
      ]
    },
    {
      "cell_type": "code",
      "source": [
        "#indepednt variable \n",
        "X  = dataset.iloc[:,0].values"
      ],
      "metadata": {
        "id": "d9td6jxMni-n"
      },
      "execution_count": null,
      "outputs": []
    },
    {
      "cell_type": "code",
      "source": [
        "X"
      ],
      "metadata": {
        "colab": {
          "base_uri": "https://localhost:8080/"
        },
        "id": "44oQV7a0nvPk",
        "outputId": "2b2010ee-241f-4a61-8fb8-27abb23e8bc9"
      },
      "execution_count": null,
      "outputs": [
        {
          "output_type": "execute_result",
          "data": {
            "text/plain": [
              "array([6.83      , 6.56      , 6.99594872, 5.67      , 8.67      ,\n",
              "       7.55      , 6.67      , 8.99      , 5.19      , 6.75      ,\n",
              "       6.59      , 8.56      , 7.75      , 7.9       , 8.19      ,\n",
              "       6.55      , 6.36      , 8.44      , 8.41      , 7.67      ,\n",
              "       7.42      , 8.16      , 5.05      , 5.85      , 5.45      ,\n",
              "       7.96      , 6.51      , 6.73      , 5.94      , 7.48      ,\n",
              "       8.13      , 6.99594872, 5.4       , 8.78      , 8.72      ,\n",
              "       7.1       , 7.86      , 7.19      , 5.62      , 7.88      ,\n",
              "       5.28      , 8.92      , 5.46      , 8.3       , 8.09      ,\n",
              "       6.18      , 7.01      , 5.01      , 5.54      , 5.09      ,\n",
              "       5.09      , 7.31      , 8.71      , 5.52      , 8.76      ,\n",
              "       8.69      , 5.75      , 8.93      , 5.39      , 5.65      ,\n",
              "       5.49      , 7.26      , 6.35      , 7.72      , 8.88      ,\n",
              "       5.45      , 7.86      , 8.26      , 5.07      , 8.25      ,\n",
              "       5.37      , 5.11      , 6.35      , 7.41      , 7.31      ,\n",
              "       6.04      , 5.11      , 6.56      , 5.09      , 5.88      ,\n",
              "       8.34      , 7.94      , 6.66      , 6.01      , 6.88      ,\n",
              "       5.63      , 5.88      , 8.05      , 5.33      , 8.79      ,\n",
              "       7.52      , 8.2       , 5.44      , 7.9       , 7.69      ,\n",
              "       6.09      , 6.99594872, 5.2       , 8.88      , 8.07      ,\n",
              "       6.24      , 7.95      , 8.26      , 7.31      , 7.23      ,\n",
              "       6.46      , 5.34      , 5.72      , 5.84      , 5.02      ,\n",
              "       7.98      , 6.37      , 6.92      , 7.95      , 7.12      ,\n",
              "       5.79      , 5.4       , 8.83      , 5.69      , 6.6       ,\n",
              "       6.52      , 8.31      , 6.99594872, 7.62      , 8.69      ,\n",
              "       8.75      , 6.46      , 7.14      , 6.38      , 6.33      ,\n",
              "       5.64      , 5.26      , 6.83      , 5.76      , 6.51      ,\n",
              "       8.33      , 8.16      , 5.14      , 8.71      , 8.6       ,\n",
              "       8.6       , 7.43      , 7.81      , 6.51      , 8.11      ,\n",
              "       8.95      , 7.99      , 5.92      , 8.3       , 8.97      ,\n",
              "       5.39      , 6.77      , 8.08      , 5.24      , 6.93      ,\n",
              "       5.14      , 8.39      , 6.18      , 7.53      , 7.86      ,\n",
              "       7.7       , 7.3       , 7.79      , 6.75      , 7.87      ,\n",
              "       5.38      , 7.8       , 5.07      , 7.95      , 8.35      ,\n",
              "       5.19      , 7.19      , 7.35      , 5.22      , 5.39      ,\n",
              "       5.39      , 8.93      , 5.79      , 8.42      , 7.26      ,\n",
              "       6.97      , 5.55      , 8.66      , 8.61      , 5.22      ,\n",
              "       8.05      , 8.87      , 5.54      , 6.99594872, 7.26      ,\n",
              "       5.79      , 5.22      , 8.71      , 7.55      , 6.35      ,\n",
              "       7.53      , 8.56      , 8.94      , 6.6       , 8.35      ])"
            ]
          },
          "metadata": {},
          "execution_count": 25
        }
      ]
    },
    {
      "cell_type": "code",
      "source": [
        "#dependent variable\n",
        "y = dataset.iloc[:,1].values\n",
        "y"
      ],
      "metadata": {
        "colab": {
          "base_uri": "https://localhost:8080/"
        },
        "id": "QPrqppDOnzlN",
        "outputId": "eacc03d1-60da-4006-dedc-7ed8bf37b5fb"
      },
      "execution_count": null,
      "outputs": [
        {
          "output_type": "execute_result",
          "data": {
            "text/plain": [
              "array([78.5 , 76.74, 78.68, 71.82, 84.19, 81.18, 76.99, 85.46, 70.66,\n",
              "       77.82, 75.37, 83.88, 79.5 , 80.76, 83.08, 76.03, 76.04, 85.11,\n",
              "       82.5 , 80.58, 82.18, 83.36, 70.67, 75.02, 70.96, 83.33, 74.75,\n",
              "       75.65, 74.15, 80.17, 82.27, 76.14, 71.1 , 84.35, 83.08, 76.76,\n",
              "       81.24, 78.21, 73.08, 83.23, 70.27, 86.41, 71.1 , 82.84, 82.38,\n",
              "       72.96, 77.46, 70.11, 72.38, 71.41, 72.22, 77.77, 84.44, 71.45,\n",
              "       82.21, 85.48, 75.03, 86.65, 70.9 , 71.7 , 73.61, 79.41, 76.19,\n",
              "       80.43, 85.78, 70.06, 81.25, 81.7 , 69.27, 82.79, 71.8 , 71.79,\n",
              "       74.97, 78.61, 77.59, 72.33, 72.08, 77.33, 70.05, 73.34, 84.  ,\n",
              "       82.93, 76.63, 75.36, 77.29, 72.87, 73.4 , 81.74, 71.85, 84.6 ,\n",
              "       79.56, 82.1 , 72.08, 79.1 , 81.01, 76.48, 75.39, 68.57, 83.64,\n",
              "       82.3 , 75.18, 82.03, 82.99, 79.26, 77.55, 77.07, 72.1 , 73.25,\n",
              "       74.25, 70.58, 81.08, 75.04, 76.38, 80.86, 78.42, 74.44, 70.34,\n",
              "       85.04, 73.61, 75.55, 76.2 , 82.69, 76.83, 79.53, 83.57, 85.95,\n",
              "       76.02, 77.65, 77.01, 74.49, 73.19, 71.86, 75.8 , 72.46, 78.39,\n",
              "       83.48, 83.15, 71.22, 85.98, 83.91, 84.58, 80.31, 82.55, 75.52,\n",
              "       83.82, 85.15, 82.75, 74.34, 82.02, 86.12, 71.87, 76.7 , 81.7 ,\n",
              "       70.78, 78.45, 70.2 , 83.37, 75.52, 81.57, 80.72, 80.81, 79.49,\n",
              "       79.17, 77.07, 82.04, 71.94, 81.6 , 70.79, 82.68, 83.08, 71.18,\n",
              "       77.63, 77.78, 70.4 , 73.02, 71.11, 85.96, 73.64, 84.24, 78.17,\n",
              "       77.19, 71.83, 86.99, 83.87, 71.5 , 79.63, 85.1 , 72.01, 77.27,\n",
              "       79.87, 73.14, 70.51, 84.03, 79.64, 74.24, 81.67, 84.68, 86.75,\n",
              "       78.05, 83.5 ])"
            ]
          },
          "metadata": {},
          "execution_count": 26
        }
      ]
    },
    {
      "cell_type": "code",
      "source": [
        "# Splitting the dataset into the Training set and Test set\n",
        "from sklearn.model_selection import train_test_split\n",
        "\n",
        "X_train, X_test, y_train, y_test = train_test_split(X, y, test_size = 1/3, random_state = 0)"
      ],
      "metadata": {
        "id": "wrs7CP3LoB2W"
      },
      "execution_count": null,
      "outputs": []
    },
    {
      "cell_type": "code",
      "source": [
        "X_train"
      ],
      "metadata": {
        "colab": {
          "base_uri": "https://localhost:8080/"
        },
        "id": "LNn1QJCeo-JG",
        "outputId": "39f0132f-4bc5-486a-d4ed-b18f4e5a40b2"
      },
      "execution_count": null,
      "outputs": [
        {
          "output_type": "execute_result",
          "data": {
            "text/plain": [
              "array([6.75      , 7.31      , 5.88      , 8.6       , 7.52      ,\n",
              "       5.14      , 7.95      , 8.11      , 8.79      , 5.02      ,\n",
              "       8.19      , 6.73      , 7.43      , 5.54      , 7.01      ,\n",
              "       8.71      , 7.53      , 5.84      , 6.35      , 6.99594872,\n",
              "       5.65      , 8.16      , 8.94      , 8.3       , 6.59      ,\n",
              "       6.35      , 7.41      , 8.56      , 8.42      , 5.39      ,\n",
              "       6.46      , 7.9       , 6.92      , 7.53      , 5.22      ,\n",
              "       5.09      , 6.83      , 7.69      , 7.98      , 6.09      ,\n",
              "       8.88      , 5.07      , 8.92      , 8.25      , 5.09      ,\n",
              "       5.54      , 5.63      , 7.9       , 7.3       , 5.85      ,\n",
              "       8.87      , 8.33      , 7.42      , 6.55      , 5.09      ,\n",
              "       7.23      , 8.71      , 6.24      , 5.11      , 5.67      ,\n",
              "       5.4       , 7.87      , 6.6       , 6.67      , 5.07      ,\n",
              "       6.88      , 8.31      , 5.14      , 7.19      , 8.39      ,\n",
              "       8.2       , 8.35      , 8.56      , 6.6       , 8.26      ,\n",
              "       7.1       , 8.93      , 5.45      , 6.56      , 6.52      ,\n",
              "       7.79      , 5.46      , 6.46      , 6.83      , 5.22      ,\n",
              "       8.44      , 5.62      , 5.76      , 5.52      , 6.18      ,\n",
              "       6.38      , 8.72      , 5.94      , 7.12      , 6.77      ,\n",
              "       6.99594872, 7.8       , 7.14      , 8.93      , 5.4       ,\n",
              "       7.81      , 8.35      , 5.92      , 7.48      , 8.07      ,\n",
              "       6.66      , 5.88      , 5.79      , 8.3       , 7.55      ,\n",
              "       6.35      , 6.56      , 7.96      , 5.38      , 7.94      ,\n",
              "       6.99594872, 5.39      , 5.79      , 7.88      , 5.39      ,\n",
              "       8.6       , 5.33      , 5.37      , 8.05      , 7.86      ,\n",
              "       8.16      , 6.75      , 7.31      , 8.26      , 8.71      ,\n",
              "       8.83      , 5.01      , 7.35      ])"
            ]
          },
          "metadata": {},
          "execution_count": 28
        }
      ]
    },
    {
      "cell_type": "code",
      "source": [
        "X_test"
      ],
      "metadata": {
        "colab": {
          "base_uri": "https://localhost:8080/"
        },
        "id": "579CpLT5pBv5",
        "outputId": "861fde1c-66e8-4e09-9a3a-f5fbbc050d95"
      },
      "execution_count": null,
      "outputs": [
        {
          "output_type": "execute_result",
          "data": {
            "text/plain": [
              "array([8.41      , 5.19      , 5.72      , 8.88      , 5.79      ,\n",
              "       8.66      , 7.55      , 7.99      , 7.75      , 8.08      ,\n",
              "       7.26      , 8.75      , 6.97      , 6.93      , 8.34      ,\n",
              "       8.99      , 8.78      , 5.64      , 7.19      , 7.31      ,\n",
              "       8.61      , 8.95      , 6.18      , 7.86      , 5.49      ,\n",
              "       7.62      , 7.26      , 8.05      , 6.99594872, 8.09      ,\n",
              "       6.36      , 8.69      , 5.39      , 6.37      , 5.05      ,\n",
              "       7.26      , 6.33      , 8.67      , 6.01      , 5.34      ,\n",
              "       6.51      , 7.86      , 6.51      , 7.95      , 7.95      ,\n",
              "       7.72      , 5.19      , 6.04      , 5.69      , 6.51      ,\n",
              "       5.11      , 8.69      , 5.22      , 5.2       , 8.97      ,\n",
              "       5.45      , 8.13      , 7.7       , 5.28      , 5.75      ,\n",
              "       5.26      , 6.99594872, 5.55      , 7.67      , 5.24      ,\n",
              "       5.44      , 8.76      ])"
            ]
          },
          "metadata": {},
          "execution_count": 29
        }
      ]
    },
    {
      "cell_type": "code",
      "source": [
        "y_train"
      ],
      "metadata": {
        "colab": {
          "base_uri": "https://localhost:8080/"
        },
        "id": "QpWmAexnpFfB",
        "outputId": "8976a590-6b7e-48de-b11b-dd8cfb7b7f3b"
      },
      "execution_count": null,
      "outputs": [
        {
          "output_type": "execute_result",
          "data": {
            "text/plain": [
              "array([77.07, 77.77, 73.4 , 83.91, 79.56, 71.22, 82.03, 83.82, 84.6 ,\n",
              "       70.58, 83.08, 75.65, 80.31, 72.01, 77.46, 85.98, 81.67, 74.25,\n",
              "       76.19, 78.68, 71.7 , 83.15, 86.75, 82.84, 75.37, 74.24, 78.61,\n",
              "       84.68, 84.24, 71.11, 76.02, 79.1 , 76.38, 81.57, 70.51, 72.22,\n",
              "       78.5 , 81.01, 81.08, 76.48, 85.78, 70.79, 86.41, 82.79, 71.41,\n",
              "       72.38, 72.87, 80.76, 79.49, 75.02, 85.1 , 83.48, 82.18, 76.03,\n",
              "       70.05, 77.55, 84.44, 75.18, 72.08, 71.82, 70.34, 82.04, 78.05,\n",
              "       76.99, 69.27, 77.29, 82.69, 70.2 , 77.63, 83.37, 82.1 , 83.5 ,\n",
              "       83.88, 75.55, 82.99, 76.76, 86.65, 70.06, 76.74, 76.2 , 79.17,\n",
              "       71.1 , 77.07, 75.8 , 70.4 , 85.11, 73.08, 72.46, 71.45, 75.52,\n",
              "       77.01, 83.08, 74.15, 78.42, 76.7 , 76.14, 81.6 , 77.65, 85.96,\n",
              "       71.1 , 82.55, 83.08, 74.34, 80.17, 82.3 , 76.63, 73.34, 74.44,\n",
              "       82.02, 79.64, 74.97, 77.33, 83.33, 71.94, 82.93, 77.27, 73.02,\n",
              "       73.14, 83.23, 70.9 , 84.58, 71.85, 71.8 , 81.74, 81.24, 83.36,\n",
              "       77.82, 79.26, 81.7 , 84.03, 85.04, 70.11, 77.78])"
            ]
          },
          "metadata": {},
          "execution_count": 30
        }
      ]
    },
    {
      "cell_type": "code",
      "source": [
        "y_test"
      ],
      "metadata": {
        "colab": {
          "base_uri": "https://localhost:8080/"
        },
        "id": "mvO4yzfwpIje",
        "outputId": "89cbcc44-2582-4d92-ea85-db4049fe12a3"
      },
      "execution_count": null,
      "outputs": [
        {
          "output_type": "execute_result",
          "data": {
            "text/plain": [
              "array([82.5 , 71.18, 73.25, 83.64, 73.64, 86.99, 81.18, 82.75, 79.5 ,\n",
              "       81.7 , 79.41, 85.95, 77.19, 78.45, 84.  , 85.46, 84.35, 73.19,\n",
              "       78.21, 77.59, 83.87, 85.15, 72.96, 80.72, 73.61, 79.53, 78.17,\n",
              "       79.63, 76.83, 82.38, 76.04, 85.48, 71.87, 75.04, 70.67, 79.87,\n",
              "       74.49, 84.19, 75.36, 72.1 , 78.39, 81.25, 74.75, 80.86, 82.68,\n",
              "       80.43, 70.66, 72.33, 73.61, 75.52, 71.79, 83.57, 71.5 , 68.57,\n",
              "       86.12, 70.96, 82.27, 80.81, 70.27, 75.03, 71.86, 75.39, 71.83,\n",
              "       80.58, 70.78, 72.08, 82.21])"
            ]
          },
          "metadata": {},
          "execution_count": 31
        }
      ]
    },
    {
      "cell_type": "code",
      "source": [
        "# Fitting Simple Linear Regression to the Training set\n",
        "from sklearn.linear_model import LinearRegression\n"
      ],
      "metadata": {
        "id": "Fk3W254WpLBQ"
      },
      "execution_count": null,
      "outputs": []
    },
    {
      "cell_type": "code",
      "source": [
        "model = LinearRegression()"
      ],
      "metadata": {
        "id": "ueLgShCzpQMF"
      },
      "execution_count": null,
      "outputs": []
    },
    {
      "cell_type": "code",
      "source": [
        "X_train= X_train.reshape(-1,1)"
      ],
      "metadata": {
        "id": "zTzP0expqC5a"
      },
      "execution_count": null,
      "outputs": []
    },
    {
      "cell_type": "code",
      "source": [
        "y_train=y_train.reshape(-1,1)"
      ],
      "metadata": {
        "id": "vTbgnlL7qOQk"
      },
      "execution_count": null,
      "outputs": []
    },
    {
      "cell_type": "code",
      "source": [
        "X_test=X_test.reshape(-1,1)"
      ],
      "metadata": {
        "id": "DGKVZXDNqXUh"
      },
      "execution_count": null,
      "outputs": []
    },
    {
      "cell_type": "code",
      "source": [
        "y_test=y_test.reshape(-1,1)"
      ],
      "metadata": {
        "id": "rCPXrQDNqeXx"
      },
      "execution_count": null,
      "outputs": []
    },
    {
      "cell_type": "code",
      "source": [
        "model.fit(X_train,y_train)"
      ],
      "metadata": {
        "colab": {
          "base_uri": "https://localhost:8080/"
        },
        "id": "PKpU8A6YqtDQ",
        "outputId": "1ec14bed-35a3-4638-f0b2-c30c6adad71e"
      },
      "execution_count": null,
      "outputs": [
        {
          "output_type": "execute_result",
          "data": {
            "text/plain": [
              "LinearRegression()"
            ]
          },
          "metadata": {},
          "execution_count": 46
        }
      ]
    },
    {
      "cell_type": "code",
      "source": [
        "y_pred = model.predict(X_test)\n",
        "print(y_pred)"
      ],
      "metadata": {
        "colab": {
          "base_uri": "https://localhost:8080/"
        },
        "id": "dtwR-furrCEO",
        "outputId": "4928b5c7-da7b-433c-a291-02879b0af21c"
      },
      "execution_count": null,
      "outputs": [
        {
          "output_type": "stream",
          "name": "stdout",
          "text": [
            "[[83.58962965]\n",
            " [70.86184266]\n",
            " [72.95678897]\n",
            " [85.44741222]\n",
            " [73.23347999]\n",
            " [84.57781187]\n",
            " [80.19028281]\n",
            " [81.92948352]\n",
            " [80.98082859]\n",
            " [82.28522912]\n",
            " [79.04399144]\n",
            " [84.93355747]\n",
            " [77.89770006]\n",
            " [77.73959091]\n",
            " [83.31293863]\n",
            " [85.8822124 ]\n",
            " [85.05213933]\n",
            " [72.64057066]\n",
            " [78.76730042]\n",
            " [79.24162788]\n",
            " [84.38017543]\n",
            " [85.72410324]\n",
            " [74.77504425]\n",
            " [81.41562877]\n",
            " [72.04766132]\n",
            " [80.46697384]\n",
            " [79.04399144]\n",
            " [82.16664725]\n",
            " [78.00026831]\n",
            " [82.32475641]\n",
            " [75.48653545]\n",
            " [84.69639374]\n",
            " [71.65238844]\n",
            " [75.52606274]\n",
            " [70.30846062]\n",
            " [79.04399144]\n",
            " [75.36795358]\n",
            " [84.61733916]\n",
            " [74.10308034]\n",
            " [71.45475199]\n",
            " [76.07944478]\n",
            " [81.41562877]\n",
            " [76.07944478]\n",
            " [81.77137437]\n",
            " [81.77137437]\n",
            " [80.86224672]\n",
            " [70.86184266]\n",
            " [74.22166221]\n",
            " [72.8382071 ]\n",
            " [76.07944478]\n",
            " [70.54562435]\n",
            " [84.69639374]\n",
            " [70.98042453]\n",
            " [70.90136995]\n",
            " [85.80315782]\n",
            " [71.88955217]\n",
            " [82.48286556]\n",
            " [80.78319215]\n",
            " [71.21758826]\n",
            " [73.07537083]\n",
            " [71.13853368]\n",
            " [78.00026831]\n",
            " [72.28482506]\n",
            " [80.66461028]\n",
            " [71.05947911]\n",
            " [71.85002488]\n",
            " [84.97308476]]\n"
          ]
        }
      ]
    },
    {
      "cell_type": "code",
      "source": [
        "# Visualising the Training set results\n",
        "import matplotlib.pyplot as plt\n",
        "\n",
        "plt.scatter(X_train, y_train, color = 'red')\n",
        "plt.plot(X_train, model.predict(X_train), color = 'blue')\n",
        "plt.title('marks vs study hour (Training set)')\n",
        "plt.xlabel('hours')\n",
        "plt.ylabel('Marks')\n",
        "plt.show()"
      ],
      "metadata": {
        "colab": {
          "base_uri": "https://localhost:8080/",
          "height": 295
        },
        "id": "1Zp261NfrerU",
        "outputId": "4dac5277-5cf1-4f5f-c9f3-8a788deeb1b6"
      },
      "execution_count": null,
      "outputs": [
        {
          "output_type": "display_data",
          "data": {
            "text/plain": [
              "<Figure size 432x288 with 1 Axes>"
            ],
            "image/png": "[encoded data removed]"
          },
          "metadata": {
            "needs_background": "light"
          }
        }
      ]
    },
    {
      "cell_type": "code",
      "source": [
        "# Visualising the Test set results\n",
        "plt.scatter(X_test, y_test, color = 'red')\n",
        "plt.plot(X_train, model.predict(X_train), color = 'blue')\n",
        "plt.title('marks vs hours (Test set)')\n",
        "plt.xlabel('hours')\n",
        "plt.ylabel('marks')\n",
        "plt.show()"
      ],
      "metadata": {
        "colab": {
          "base_uri": "https://localhost:8080/",
          "height": 295
        },
        "id": "Mwgq0vJyr5bv",
        "outputId": "20c84ba4-12a7-4f8c-e710-eae4b3c98faa"
      },
      "execution_count": null,
      "outputs": [
        {
          "output_type": "display_data",
          "data": {
            "text/plain": [
              "<Figure size 432x288 with 1 Axes>"
            ],
            "image/png": "[encoded data removed]"
          },
          "metadata": {
            "needs_background": "light"
          }
        }
      ]
    },
    {
      "cell_type": "code",
      "source": [
        "# Visualising the Test set results\n",
        "plt.scatter(X_test, y_test, color = 'red')\n",
        "plt.plot(X_test, y_pred, color = 'blue')\n",
        "plt.title('marks vs hours (Test set)')\n",
        "plt.xlabel('Hours')\n",
        "plt.ylabel('Marks')\n",
        "plt.show()"
      ],
      "metadata": {
        "colab": {
          "base_uri": "https://localhost:8080/",
          "height": 295
        },
        "id": "FdRbXq2osQPp",
        "outputId": "42a9d30f-a9aa-4cb4-ee86-f617e12b0c34"
      },
      "execution_count": null,
      "outputs": [
        {
          "output_type": "display_data",
          "data": {
            "text/plain": [
              "<Figure size 432x288 with 1 Axes>"
            ],
            "image/png": "[encoded data removed]"
          },
          "metadata": {
            "needs_background": "light"
          }
        }
      ]
    },
    {
      "cell_type": "code",
      "source": [
        "print(\"Regressor slope:  %2.f  \"%( model.coef_[0]))\n",
        "print(\"Regressor intercept:%2.f  \"% model.intercept_)"
      ],
      "metadata": {
        "colab": {
          "base_uri": "https://localhost:8080/"
        },
        "id": "hFkiqRmEsmAP",
        "outputId": "522987e3-6545-4644-9528-ce49d96d5d07"
      },
      "execution_count": null,
      "outputs": [
        {
          "output_type": "stream",
          "name": "stdout",
          "text": [
            "Regressor slope:   4  \n",
            "Regressor intercept:50  \n"
          ]
        }
      ]
    },
    {
      "cell_type": "code",
      "source": [
        "Study_hours = int(input(\"enter study hours to predict: \"))\n",
        "print(\"marks:     %.2f\"    %(model.predict([[Study_hours]])))"
      ],
      "metadata": {
        "colab": {
          "base_uri": "https://localhost:8080/"
        },
        "id": "8TGsEAZos8v0",
        "outputId": "f44e0924-5323-48af-8555-4e8e5f20fc5e"
      },
      "execution_count": null,
      "outputs": [
        {
          "output_type": "stream",
          "name": "stdout",
          "text": [
            "enter study hours to predict: 6\n",
            "marks:     74.06\n"
          ]
        }
      ]
    },
    {
      "cell_type": "code",
      "source": [
        "#accuracyy\n",
        "model.score(X_test,y_test)"
      ],
      "metadata": {
        "colab": {
          "base_uri": "https://localhost:8080/"
        },
        "id": "Jf4gPg33tley",
        "outputId": "065a3c85-0d18-4db7-80e8-2627761e68da"
      },
      "execution_count": null,
      "outputs": [
        {
          "output_type": "execute_result",
          "data": {
            "text/plain": [
              "0.9490012935809334"
            ]
          },
          "metadata": {},
          "execution_count": 55
        }
      ]
    },
    {
      "cell_type": "code",
      "source": [
        ""
      ],
      "metadata": {
        "colab": {
          "base_uri": "https://localhost:8080/",
          "height": 183
        },
        "id": "vcgRgMKHwQnX",
        "outputId": "4e65cc5a-da83-45b4-dc5f-2b7818488646"
      },
      "execution_count": null,
      "outputs": [
        {
          "output_type": "error",
          "ename": "NameError",
          "evalue": "ignored",
          "traceback": [
            "\u001b[0;31m---------------------------------------------------------------------------\u001b[0m",
            "\u001b[0;31mNameError\u001b[0m                                 Traceback (most recent call last)",
            "\u001b[0;32m<ipython-input-56-568f5fea64b6>\u001b[0m in \u001b[0;36m<module>\u001b[0;34m()\u001b[0m\n\u001b[1;32m      1\u001b[0m \u001b[0;32mfrom\u001b[0m \u001b[0msklearn\u001b[0m\u001b[0;34m.\u001b[0m\u001b[0mmetrics\u001b[0m \u001b[0;32mimport\u001b[0m  \u001b[0mconfusion_matrix\u001b[0m\u001b[0;34m\u001b[0m\u001b[0;34m\u001b[0m\u001b[0m\n\u001b[0;32m----> 2\u001b[0;31m \u001b[0mcm\u001b[0m \u001b[0;34m=\u001b[0m \u001b[0mconfusion_matrix\u001b[0m\u001b[0;34m(\u001b[0m\u001b[0my_test\u001b[0m\u001b[0;34m,\u001b[0m\u001b[0my_predict\u001b[0m\u001b[0;34m)\u001b[0m\u001b[0;34m\u001b[0m\u001b[0;34m\u001b[0m\u001b[0m\n\u001b[0m",
            "\u001b[0;31mNameError\u001b[0m: name 'y_predict' is not defined"
          ]
        }
      ]
    },
    {
      "cell_type": "code",
      "source": [
        ""
      ],
      "metadata": {
        "id": "aPeYeyu5wkDe"
      },
      "execution_count": null,
      "outputs": []
    }
  ]
}